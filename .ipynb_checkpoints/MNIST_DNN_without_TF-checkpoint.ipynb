{
 "cells": [
  {
   "cell_type": "code",
   "execution_count": 25,
   "metadata": {
    "collapsed": true
   },
   "outputs": [],
   "source": [
    "from tensorflow.examples.tutorials.mnist import input_data"
   ]
  },
  {
   "cell_type": "code",
   "execution_count": 26,
   "metadata": {
    "scrolled": true
   },
   "outputs": [
    {
     "name": "stdout",
     "output_type": "stream",
     "text": [
      "Extracting MNIST_data/train-images-idx3-ubyte.gz\n",
      "Extracting MNIST_data/train-labels-idx1-ubyte.gz\n",
      "Extracting MNIST_data/t10k-images-idx3-ubyte.gz\n",
      "Extracting MNIST_data/t10k-labels-idx1-ubyte.gz\n"
     ]
    }
   ],
   "source": [
    "mnist = input_data.read_data_sets(\"MNIST_data/\", one_hot=True)"
   ]
  },
  {
   "cell_type": "code",
   "execution_count": 28,
   "metadata": {
    "collapsed": true
   },
   "outputs": [],
   "source": [
    "import numpy as np\n",
    "import math"
   ]
  },
  {
   "cell_type": "code",
   "execution_count": 29,
   "metadata": {
    "collapsed": true
   },
   "outputs": [],
   "source": [
    "def sigma(x):\n",
    "    return 1. / (1. + np.exp(-x)) \n",
    "\n",
    "def sigma_prime(x):\n",
    "    return sigma(x) * (1. - sigma(x))"
   ]
  },
  {
   "cell_type": "code",
   "execution_count": 30,
   "metadata": {
    "collapsed": true
   },
   "outputs": [],
   "source": [
    "def log_softmax(x):\n",
    "    xdev = x - x.max(1, keepdims=True)\n",
    "    return xdev - np.log(np.sum(np.exp(xdev), axis=1, keepdims=True))"
   ]
  },
  {
   "cell_type": "code",
   "execution_count": 39,
   "metadata": {
    "collapsed": true
   },
   "outputs": [],
   "source": [
    "class NN:\n",
    "    def __init__(self, input_size=784, output_size=10, hidden_size=500, model_type='normal', momentum_intensity=0.1, noise_intensity=0.01, reg_coef = [0.01, 0.01]):\n",
    "        init_range_first_layer = math.sqrt(6.0 / (input_size + hidden_size))\n",
    "        self.W1 = np.array([np.random.uniform(-init_range_first_layer, init_range_first_layer, hidden_size) for i in range(input_size)])\n",
    "        self.b1 = [np.zeros(500)]\n",
    "        init_range_second_layer = math.sqrt(6.0 / (500 + output_size))\n",
    "        self.W2 = np.array([np.random.uniform(-init_range_second_layer, init_range_second_layer, output_size) for i in range(hidden_size)])\n",
    "        self.b2 = [np.zeros(10)]\n",
    "        self.model_type = model_type\n",
    "        \n",
    "        if self.model_type == 'past_momentum':\n",
    "            self.past_momentums = []\n",
    "            self.momentum_intensity = momentum_intensity\n",
    "            \n",
    "        if self.model_type == 'noise':\n",
    "            self.noise_intensity = noise_intensity\n",
    "            \n",
    "        if self.model_type == 'regularization':\n",
    "            self.reg_coef_1 = reg_coef[0]\n",
    "            self.reg_coef_2 = reg_coef[1]\n",
    "    \n",
    "    def train(self, X, Y, learning_rate=0.05):\n",
    "        num_examples = X.shape[0]\n",
    "        layer_1 = np.matmul(X, self.W1) + self.b1\n",
    "        activated_1 = sigma(layer_1)\n",
    "        \n",
    "        layer_2 = np.matmul(layer_1, self.W2) + self.b2\n",
    "        exp_scores = np.exp(layer_2)\n",
    "        y_pred = exp_scores / np.sum(exp_scores, axis=1, keepdims=True)\n",
    "        \n",
    "        loss =  Y * -log_softmax(layer_2)\n",
    "        loss = np.mean(np.sum(loss, axis=1))\n",
    "\n",
    "        d_layer_2 = (y_pred - Y) / num_examples\n",
    "        d_b2 = np.sum(d_layer_2, axis=0, keepdims=True)\n",
    "        d_W2 = np.matmul(np.transpose(activated_1), d_layer_2)\n",
    "\n",
    "        d_loss_1 = np.matmul(d_layer_2, np.transpose(self.W2))\n",
    "        d_sigma_1 = sigma_prime(layer_1)\n",
    "        d_layer_1 = d_loss_1 * d_sigma_1\n",
    "        d_b1 = np.sum(d_layer_1, axis=0, keepdims=True)\n",
    "        d_W1 = np.matmul(np.transpose(X), d_layer_1)\n",
    "\n",
    "        \n",
    "        self.W1 -= learning_rate * d_W1\n",
    "        self.b1 -= learning_rate * d_b1\n",
    "        self.W2 -= learning_rate * d_W2\n",
    "        self.b2 -= learning_rate * d_b2\n",
    "        \n",
    "        if self.model_type == 'past_momentum':\n",
    "            if len(self.past_momentums) > 0:\n",
    "                self.W1 += self.momentum_intensity * self.past_momentums[0]\n",
    "                self.b1 += self.momentum_intensity * self.past_momentums[1]\n",
    "                self.W2 += self.momentum_intensity * self.past_momentums[2]\n",
    "                self.b2 += self.momentum_intensity * self.past_momentums[3]\n",
    "            self.past_momentums = [d_W1, d_b1, d_W2, d_b2]\n",
    "            \n",
    "        if self.model_type == 'noise':\n",
    "            self.W1 += np.random.normal(0,self.noise_intensity)\n",
    "            self.b1 += np.random.normal(0,self.noise_intensity)\n",
    "            self.W2 += np.random.normal(0,self.noise_intensity)\n",
    "            self.b2 += np.random.normal(0,self.noise_intensity)\n",
    "                \n",
    "        return loss\n",
    "    \n",
    "    \n",
    "    def predict(self, X):\n",
    "        layer_1 = np.matmul(X, self.W1) + self.b1\n",
    "        activated_1 = sigma(layer_1)\n",
    "\n",
    "        layer_2 = np.matmul(layer_1, self.W2) + self.b2\n",
    "        exp_scores = np.exp(layer_2)\n",
    "        y_pred = exp_scores / np.sum(exp_scores, axis=1, keepdims=True)\n",
    "    \n",
    "        return np.argmax(y_pred, axis=1)\n",
    "    \n",
    "    def calculate_accuracy(self, X, Y):\n",
    "        prediction = self.predict(X)\n",
    "        return np.mean(prediction == np.argmax(Y, axis=1)) * 100\n",
    "    \n",
    "#     def calculate_regulation_term(order):\n",
    "#         weight_list = \n",
    "#         if order == 1:\n",
    "#             return [ for ]\n",
    "        "
   ]
  },
  {
   "cell_type": "code",
   "execution_count": 40,
   "metadata": {
    "collapsed": true
   },
   "outputs": [],
   "source": [
    "model = NN()\n",
    "TRAINING_EPOCHS = 50\n",
    "BATCH_SIZE = 500"
   ]
  },
  {
   "cell_type": "code",
   "execution_count": 41,
   "metadata": {
    "scrolled": false
   },
   "outputs": [
    {
     "name": "stdout",
     "output_type": "stream",
     "text": [
      "Epoch: 1 cost: 1.40441422388\n",
      "Precision: 80.62\n",
      "Epoch: 2 cost: 0.764362547611\n",
      "Precision: 85.06\n",
      "Epoch: 3 cost: 0.603306835619\n",
      "Precision: 86.64\n",
      "Epoch: 4 cost: 0.527544852211\n",
      "Precision: 87.59\n",
      "Epoch: 5 cost: 0.482944734145\n",
      "Precision: 88.39\n",
      "Epoch: 6 cost: 0.452747029397\n",
      "Precision: 88.98\n",
      "Epoch: 7 cost: 0.430847841442\n",
      "Precision: 89.16\n",
      "Epoch: 8 cost: 0.413731829362\n",
      "Precision: 89.53\n",
      "Epoch: 9 cost: 0.400174752907\n",
      "Precision: 89.81\n",
      "Epoch: 10 cost: 0.388903523361\n",
      "Precision: 89.86\n",
      "Epoch: 11 cost: 0.379757916481\n",
      "Precision: 90.18\n",
      "Epoch: 12 cost: 0.371843931334\n",
      "Precision: 90.14\n",
      "Epoch: 13 cost: 0.36500006586\n",
      "Precision: 90.41\n",
      "Epoch: 14 cost: 0.359152875081\n",
      "Precision: 90.55\n",
      "Epoch: 15 cost: 0.353860027858\n",
      "Precision: 90.63\n",
      "Epoch: 16 cost: 0.349219820837\n",
      "Precision: 90.71\n",
      "Epoch: 17 cost: 0.345106263302\n",
      "Precision: 90.75\n",
      "Epoch: 18 cost: 0.341333116451\n",
      "Precision: 90.96\n",
      "Epoch: 19 cost: 0.33801470679\n",
      "Precision: 90.86\n",
      "Epoch: 20 cost: 0.334803230794\n",
      "Precision: 90.98\n",
      "Epoch: 21 cost: 0.331977984456\n",
      "Precision: 91.09\n",
      "Epoch: 22 cost: 0.32939021974\n",
      "Precision: 91.04\n",
      "Epoch: 23 cost: 0.326930740562\n",
      "Precision: 91.17\n",
      "Epoch: 24 cost: 0.324596705292\n",
      "Precision: 91.2\n",
      "Epoch: 25 cost: 0.322605671847\n",
      "Precision: 91.22\n",
      "Epoch: 26 cost: 0.320596173517\n",
      "Precision: 91.3\n",
      "Epoch: 27 cost: 0.318735058671\n",
      "Precision: 91.32\n",
      "Epoch: 28 cost: 0.317098975041\n",
      "Precision: 91.3\n",
      "Epoch: 29 cost: 0.315244374944\n",
      "Precision: 91.4\n",
      "Epoch: 30 cost: 0.313764750345\n",
      "Precision: 91.32\n",
      "Epoch: 31 cost: 0.312393721081\n",
      "Precision: 91.44\n",
      "Epoch: 32 cost: 0.310995305916\n",
      "Precision: 91.49\n",
      "Epoch: 33 cost: 0.309599235178\n",
      "Precision: 91.46\n",
      "Epoch: 34 cost: 0.308263154298\n",
      "Precision: 91.5\n",
      "Epoch: 35 cost: 0.307019234843\n",
      "Precision: 91.56\n",
      "Epoch: 36 cost: 0.306023802205\n",
      "Precision: 91.63\n",
      "Epoch: 37 cost: 0.304893144649\n",
      "Precision: 91.56\n",
      "Epoch: 38 cost: 0.30396629017\n",
      "Precision: 91.61\n",
      "Epoch: 39 cost: 0.302777395853\n",
      "Precision: 91.6\n",
      "Epoch: 40 cost: 0.301909462477\n",
      "Precision: 91.71\n",
      "Epoch: 41 cost: 0.30085232548\n",
      "Precision: 91.67\n",
      "Epoch: 42 cost: 0.300137025736\n",
      "Precision: 91.8\n",
      "Epoch: 43 cost: 0.299250222468\n",
      "Precision: 91.71\n",
      "Epoch: 44 cost: 0.298483400286\n",
      "Precision: 91.78\n",
      "Epoch: 45 cost: 0.297524785618\n",
      "Precision: 91.73\n",
      "Epoch: 46 cost: 0.296754291375\n",
      "Precision: 91.77\n",
      "Epoch: 47 cost: 0.295984712472\n",
      "Precision: 91.82\n",
      "Epoch: 48 cost: 0.295335486496\n",
      "Precision: 91.78\n",
      "Epoch: 49 cost: 0.294562298892\n",
      "Precision: 91.84\n",
      "Epoch: 50 cost: 0.293900540268\n",
      "Precision: 91.83\n",
      "Learning Finished!\n"
     ]
    }
   ],
   "source": [
    "for epoch in range(TRAINING_EPOCHS):\n",
    "    avg_cost = 0\n",
    "    total_batch = int(mnist.train.num_examples / BATCH_SIZE)\n",
    "    \n",
    "    for i in range(total_batch):\n",
    "        batch_xs, batch_ys = mnist.train.next_batch(BATCH_SIZE)\n",
    "        c = model.train(batch_xs, batch_ys)\n",
    "        avg_cost += c / total_batch\n",
    "\n",
    "    print('Epoch: ' + str((epoch + 1)) + ' cost: ' + str((avg_cost)))\n",
    "    print('Precision: ' + str(model.calculate_accuracy(mnist.test.images, mnist.test.labels)))\n",
    "\n",
    "print('Learning Finished!')\n"
   ]
  },
  {
   "cell_type": "code",
   "execution_count": null,
   "metadata": {
    "collapsed": true
   },
   "outputs": [],
   "source": []
  },
  {
   "cell_type": "code",
   "execution_count": null,
   "metadata": {
    "collapsed": true
   },
   "outputs": [],
   "source": []
  },
  {
   "cell_type": "code",
   "execution_count": null,
   "metadata": {
    "collapsed": true
   },
   "outputs": [],
   "source": []
  },
  {
   "cell_type": "code",
   "execution_count": null,
   "metadata": {
    "collapsed": true
   },
   "outputs": [],
   "source": []
  },
  {
   "cell_type": "code",
   "execution_count": null,
   "metadata": {
    "collapsed": true
   },
   "outputs": [],
   "source": []
  },
  {
   "cell_type": "code",
   "execution_count": null,
   "metadata": {
    "collapsed": true
   },
   "outputs": [],
   "source": []
  },
  {
   "cell_type": "code",
   "execution_count": null,
   "metadata": {
    "collapsed": true
   },
   "outputs": [],
   "source": []
  },
  {
   "cell_type": "code",
   "execution_count": 12,
   "metadata": {
    "collapsed": true
   },
   "outputs": [],
   "source": [
    "a = np.array([1,2])"
   ]
  },
  {
   "cell_type": "code",
   "execution_count": 13,
   "metadata": {},
   "outputs": [
    {
     "data": {
      "text/plain": [
       "array([ 0.99256517,  1.99256517])"
      ]
     },
     "execution_count": 13,
     "metadata": {},
     "output_type": "execute_result"
    }
   ],
   "source": [
    "a - np.random.normal(0,0.01)"
   ]
  },
  {
   "cell_type": "code",
   "execution_count": null,
   "metadata": {
    "collapsed": true
   },
   "outputs": [],
   "source": []
  }
 ],
 "metadata": {
  "kernelspec": {
   "display_name": "Python 3",
   "language": "python",
   "name": "python3"
  },
  "language_info": {
   "codemirror_mode": {
    "name": "ipython",
    "version": 3
   },
   "file_extension": ".py",
   "mimetype": "text/x-python",
   "name": "python",
   "nbconvert_exporter": "python",
   "pygments_lexer": "ipython3",
   "version": "3.6.1"
  }
 },
 "nbformat": 4,
 "nbformat_minor": 2
}
